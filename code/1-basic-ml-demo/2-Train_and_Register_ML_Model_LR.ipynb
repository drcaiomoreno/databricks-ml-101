{
 "cells": [
  {
   "cell_type": "code",
   "execution_count": 0,
   "metadata": {
    "application/vnd.databricks.v1+cell": {
     "cellMetadata": {
      "byteLimit": 2048000,
      "rowLimit": 10000
     },
     "inputWidgets": {},
     "nuid": "d545e8f2-0660-4b1b-a225-0c3b618049dc",
     "showTitle": true,
     "tableResultSettingsMap": {
      "0": {
       "dataGridStateBlob": "{\"version\":1,\"tableState\":{\"columnPinning\":{\"left\":[\"#row_number#\"],\"right\":[]},\"columnSizing\":{},\"columnVisibility\":{}},\"settings\":{\"columns\":{}},\"syncTimestamp\":1757608475754}",
       "filterBlob": null,
       "queryPlanFiltersBlob": null,
       "tableResultIndex": 0
      }
     },
     "title": "Query SQL"
    }
   },
   "outputs": [],
   "source": [
    "sql_df = spark.sql(\"SELECT square_feet_float, num_rooms_float, age_float, distance_to_city_km_float, price_float FROM kaggle_ml_demo.house_prediction.train_data_house_prediction_float\")\n",
    "display(sql_df)"
   ]
  },
  {
   "cell_type": "code",
   "execution_count": 0,
   "metadata": {
    "application/vnd.databricks.v1+cell": {
     "cellMetadata": {
      "byteLimit": 2048000,
      "rowLimit": 10000
     },
     "inputWidgets": {},
     "nuid": "7b50487c-3d4e-4c92-a98e-58c612ae1be9",
     "showTitle": false,
     "tableResultSettingsMap": {},
     "title": ""
    }
   },
   "outputs": [],
   "source": [
    "from pyspark.ml.feature import VectorAssembler\n",
    "from pyspark.ml.regression import LinearRegression\n",
    "from pyspark.ml.evaluation import RegressionEvaluator\n",
    "\n",
    "# Prepare features using the aliased columns\n",
    "feature_columns = ['square_feet_float', 'num_rooms_float', 'age_float', 'distance_to_city_km_float']\n",
    "assembler = VectorAssembler(inputCols=feature_columns, outputCol='features')\n",
    "data = assembler.transform(sql_df)\n",
    "\n",
    "# Split data into training and test sets\n",
    "train_data, test_data = data.randomSplit([0.8, 0.2], seed=42)\n",
    "\n",
    "# Train a Linear Regression model\n",
    "lr = LinearRegression(featuresCol='features', labelCol='price_float')\n",
    "lr_model = lr.fit(train_data)\n",
    "\n",
    "# Evaluate the model\n",
    "predictions = lr_model.transform(test_data)\n",
    "evaluator = RegressionEvaluator(labelCol='price_float', predictionCol='prediction', metricName='rmse')\n",
    "rmse = evaluator.evaluate(predictions)\n",
    "\n",
    "# Display RMSE\n",
    "display(spark.createDataFrame([(rmse,)], ['RMSE']))"
   ]
  },
  {
   "cell_type": "code",
   "execution_count": 0,
   "metadata": {
    "application/vnd.databricks.v1+cell": {
     "cellMetadata": {
      "byteLimit": 2048000,
      "rowLimit": 10000
     },
     "inputWidgets": {},
     "nuid": "5f2db65b-4d45-41c5-a648-4a18269b1216",
     "showTitle": false,
     "tableResultSettingsMap": {},
     "title": ""
    }
   },
   "outputs": [],
   "source": [
    "import mlflow\n",
    "from mlflow.models.signature import infer_signature\n",
    "\n",
    "# Set the registry URI to Unity Catalog\n",
    "mlflow.set_registry_uri(\"databricks-uc\")\n",
    "\n",
    "# Define the catalog, schema, and model name\n",
    "catalog_name = \"kaggle_ml_demo\"\n",
    "schema_name = \"house_prediction\"\n",
    "model_name = \"ml_model_house_prediction\"\n",
    "full_model_name = f\"{catalog_name}.{schema_name}.{model_name}\"\n",
    "\n",
    "# Infer the model signature\n",
    "signature = infer_signature(train_data.select(feature_columns).toPandas(), lr_model.transform(train_data).select(\"prediction\").toPandas())\n",
    "\n",
    "# Log the model with the signature\n",
    "with mlflow.start_run() as run:\n",
    "    mlflow.spark.log_model(\n",
    "        lr_model, \n",
    "        \"model\", \n",
    "        signature=signature\n",
    "    )\n",
    "\n",
    "    # Register the model to Unity Catalog\n",
    "    model_uri = f\"runs:/{run.info.run_id}/model\"\n",
    "    mlflow.register_model(model_uri=model_uri, name=full_model_name)"
   ]
  }
 ],
 "metadata": {
  "application/vnd.databricks.v1+notebook": {
   "computePreferences": null,
   "dashboards": [],
   "environmentMetadata": {
    "base_environment": "",
    "environment_version": "3"
   },
   "inputWidgetPreferences": null,
   "language": "python",
   "notebookMetadata": {
    "pythonIndentUnit": 2
   },
   "notebookName": "2-Train_and_Register_ML_Model_LR",
   "widgets": {}
  },
  "language_info": {
   "name": "python"
  }
 },
 "nbformat": 4,
 "nbformat_minor": 0
}
