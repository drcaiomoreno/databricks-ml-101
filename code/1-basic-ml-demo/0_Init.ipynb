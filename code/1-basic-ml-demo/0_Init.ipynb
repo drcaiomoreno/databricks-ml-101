{
 "cells": [
  {
   "cell_type": "code",
   "execution_count": 0,
   "metadata": {
    "application/vnd.databricks.v1+cell": {
     "cellMetadata": {
      "byteLimit": 2048000,
      "rowLimit": 10000
     },
     "inputWidgets": {},
     "nuid": "a9b1052d-4e90-4b33-9551-3fffb8f7c6ea",
     "showTitle": true,
     "tableResultSettingsMap": {},
     "title": "Create Unity Catalog Catalog and Schema"
    }
   },
   "outputs": [],
   "source": [
    "# Create Unity Catalog\n",
    "spark.sql(\"CREATE CATALOG IF NOT EXISTS kaggle_ml_demo\")\n",
    "\n",
    "# Create Unity Catalog Schema\n",
    "spark.sql(\"CREATE SCHEMA IF NOT EXISTS kaggle_ml_demo.house_prediction\")"
   ]
  },
  {
   "cell_type": "code",
   "execution_count": 0,
   "metadata": {
    "application/vnd.databricks.v1+cell": {
     "cellMetadata": {
      "byteLimit": 2048000,
      "rowLimit": 10000
     },
     "inputWidgets": {},
     "nuid": "b61fc5f4-1074-468e-a083-2daa22d429e2",
     "showTitle": true,
     "tableResultSettingsMap": {},
     "title": "Create Unity Catalog Volume"
    }
   },
   "outputs": [],
   "source": [
    "# Create Unity Catalog Volume\n",
    "spark.sql(\"CREATE VOLUME IF NOT EXISTS kaggle_ml_demo.house_prediction.kaggle\")"
   ]
  },
  {
   "cell_type": "code",
   "execution_count": 0,
   "metadata": {
    "application/vnd.databricks.v1+cell": {
     "cellMetadata": {
      "byteLimit": 2048000,
      "rowLimit": 10000
     },
     "inputWidgets": {},
     "nuid": "5e1ec659-c3a8-41c5-a136-1e89dec8363e",
     "showTitle": true,
     "tableResultSettingsMap": {},
     "title": "Show Unity Catalog Volume"
    }
   },
   "outputs": [],
   "source": [
    "volumes_df = spark.sql(\"SHOW VOLUMES IN kaggle_ml_demo.house_prediction\")\n",
    "display(volumes_df)"
   ]
  },
  {
   "cell_type": "code",
   "execution_count": 0,
   "metadata": {
    "application/vnd.databricks.v1+cell": {
     "cellMetadata": {
      "byteLimit": 2048000,
      "rowLimit": 10000
     },
     "inputWidgets": {},
     "nuid": "bb92dd84-35a3-49cc-8c4f-057e93b2ff32",
     "showTitle": true,
     "tableResultSettingsMap": {},
     "title": "List files inside UC Volume"
    }
   },
   "outputs": [],
   "source": [
    "ls -lh /Volumes/kaggle_ml_demo/house_prediction/kaggle"
   ]
  }
 ],
 "metadata": {
  "application/vnd.databricks.v1+notebook": {
   "computePreferences": null,
   "dashboards": [],
   "environmentMetadata": {
    "base_environment": "",
    "environment_version": "3"
   },
   "inputWidgetPreferences": null,
   "language": "python",
   "notebookMetadata": {
    "pythonIndentUnit": 2
   },
   "notebookName": "0_Init",
   "widgets": {}
  },
  "language_info": {
   "name": "python"
  }
 },
 "nbformat": 4,
 "nbformat_minor": 0
}
