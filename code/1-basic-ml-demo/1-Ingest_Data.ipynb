{
 "cells": [
  {
   "cell_type": "code",
   "execution_count": 0,
   "metadata": {
    "application/vnd.databricks.v1+cell": {
     "cellMetadata": {
      "byteLimit": 2048000,
      "rowLimit": 10000
     },
     "inputWidgets": {},
     "nuid": "c5802635-9894-4c93-8f00-5df19cc8f066",
     "showTitle": true,
     "tableResultSettingsMap": {},
     "title": "Install KaggleHub Library"
    }
   },
   "outputs": [],
   "source": [
    "pip install kagglehub"
   ]
  },
  {
   "cell_type": "code",
   "execution_count": 0,
   "metadata": {
    "application/vnd.databricks.v1+cell": {
     "cellMetadata": {
      "byteLimit": 2048000,
      "rowLimit": 10000
     },
     "inputWidgets": {},
     "nuid": "ea7d85be-7544-47e1-b9e7-5e4cf7f22c00",
     "showTitle": true,
     "tableResultSettingsMap": {},
     "title": "Download House Price Prediction Dataset from Kaggle"
    }
   },
   "outputs": [],
   "source": [
    "import kagglehub\n",
    "\n",
    "# Download latest version\n",
    "path = kagglehub.dataset_download(\"muhamedumarjamil/house-price-prediction-dataset\")\n",
    "\n",
    "print(\"Path to dataset files:\", path)"
   ]
  },
  {
   "cell_type": "code",
   "execution_count": 0,
   "metadata": {
    "application/vnd.databricks.v1+cell": {
     "cellMetadata": {
      "byteLimit": 2048000,
      "rowLimit": 10000
     },
     "inputWidgets": {},
     "nuid": "0b775923-cfc0-45b1-b6ac-ff08945a6fc4",
     "showTitle": true,
     "tableResultSettingsMap": {},
     "title": "Copy file to Unity Catalog Volume"
    }
   },
   "outputs": [],
   "source": [
    "%sh \n",
    "cp /root/.cache/kagglehub/datasets/muhamedumarjamil/house-price-prediction-dataset/versions/1/house_prices_dataset.csv /Volumes/kaggle_ml_demo/house_prediction/kaggle/house_prices_dataset.csv"
   ]
  },
  {
   "cell_type": "code",
   "execution_count": 0,
   "metadata": {
    "application/vnd.databricks.v1+cell": {
     "cellMetadata": {
      "byteLimit": 2048000,
      "rowLimit": 10000
     },
     "inputWidgets": {},
     "nuid": "9f072ea9-6c61-48c8-8027-c951398c6a88",
     "showTitle": true,
     "tableResultSettingsMap": {},
     "title": "List files"
    }
   },
   "outputs": [],
   "source": [
    "ls -lh /Volumes/kaggle_ml_demo/house_prediction/kaggle"
   ]
  },
  {
   "cell_type": "code",
   "execution_count": 0,
   "metadata": {
    "application/vnd.databricks.v1+cell": {
     "cellMetadata": {
      "byteLimit": 2048000,
      "rowLimit": 10000
     },
     "inputWidgets": {},
     "nuid": "636952f0-b255-48ab-94fe-962eb3f43bbb",
     "showTitle": true,
     "tableResultSettingsMap": {},
     "title": "Show first 10 lines in the house_prices_dataset.csv"
    }
   },
   "outputs": [],
   "source": [
    "!tail -n 10 /Volumes/kaggle_ml_demo/house_prediction/kaggle/house_prices_dataset.csv"
   ]
  },
  {
   "cell_type": "code",
   "execution_count": 0,
   "metadata": {
    "application/vnd.databricks.v1+cell": {
     "cellMetadata": {
      "byteLimit": 2048000,
      "rowLimit": 10000
     },
     "inputWidgets": {},
     "nuid": "fb8fd56e-3784-4438-b0ba-56b8c16f62f2",
     "showTitle": true,
     "tableResultSettingsMap": {},
     "title": "Read CSV File and Display"
    }
   },
   "outputs": [],
   "source": [
    "filename = '/Volumes/kaggle_ml_demo/house_prediction/kaggle/house_prices_dataset.csv'\n",
    "print(filename)\n",
    "\n",
    "# Load the CSV file into a DataFrame\n",
    "df_silver = spark.read.format(\"csv\").option(\"header\", True).load(filename)\n",
    "\n",
    "display(df_silver)"
   ]
  },
  {
   "cell_type": "code",
   "execution_count": 0,
   "metadata": {
    "application/vnd.databricks.v1+cell": {
     "cellMetadata": {
      "byteLimit": 2048000,
      "rowLimit": 10000
     },
     "inputWidgets": {},
     "nuid": "63ce3f6a-ff30-4326-8b9b-58254ce567f3",
     "showTitle": true,
     "tableResultSettingsMap": {},
     "title": "Rename Column Name"
    }
   },
   "outputs": [],
   "source": [
    "df_gold = df_silver.withColumnRenamed(\"distance_to_city(km)\", \"distance_to_city_km\")\n",
    "display(df_gold)"
   ]
  },
  {
   "cell_type": "code",
   "execution_count": 0,
   "metadata": {
    "application/vnd.databricks.v1+cell": {
     "cellMetadata": {
      "byteLimit": 2048000,
      "rowLimit": 10000
     },
     "inputWidgets": {},
     "nuid": "df59667c-e3e6-4b2d-bca2-2139635f2241",
     "showTitle": true,
     "tableResultSettingsMap": {},
     "title": "Write Spark Dataframe to Delta Table"
    }
   },
   "outputs": [],
   "source": [
    "# Write the DataFrame to a Delta table\n",
    "df_gold.write.format(\"delta\").mode(\"overwrite\").saveAsTable(\"kaggle_ml_demo.house_prediction.train_data_house_prediction\")"
   ]
  },
  {
   "cell_type": "code",
   "execution_count": 0,
   "metadata": {
    "application/vnd.databricks.v1+cell": {
     "cellMetadata": {
      "byteLimit": 2048000,
      "rowLimit": 10000
     },
     "inputWidgets": {},
     "nuid": "06418abd-ca22-4b08-86f1-f302584df9df",
     "showTitle": true,
     "tableResultSettingsMap": {},
     "title": "Spark SQL to query the Delta Table"
    }
   },
   "outputs": [],
   "source": [
    "sql_df = spark.sql(\"SELECT * FROM kaggle_ml_demo.house_prediction.train_data_house_prediction\")\n",
    "display(sql_df)"
   ]
  },
  {
   "cell_type": "code",
   "execution_count": 0,
   "metadata": {
    "application/vnd.databricks.v1+cell": {
     "cellMetadata": {
      "byteLimit": 2048000,
      "rowLimit": 10000
     },
     "inputWidgets": {},
     "nuid": "bbe212da-2468-492d-b1a8-ef46e7a08919",
     "showTitle": false,
     "tableResultSettingsMap": {},
     "title": ""
    }
   },
   "outputs": [],
   "source": [
    "# Check if the result of the Spark SQL query in sql_df has more than one row\n",
    "if sql_df.count() > 1:\n",
    "    print(\"The query result has more than one row.\")\n",
    "    print(\"The query result number of rows = \" + str(sql_df.count()))\n",
    "else:\n",
    "    print(\"The query result has one or zero rows.\")\n",
    "    print(\"The query result number of rows = \" + str(sql_df.count()))"
   ]
  },
  {
   "cell_type": "code",
   "execution_count": 0,
   "metadata": {
    "application/vnd.databricks.v1+cell": {
     "cellMetadata": {
      "byteLimit": 2048000,
      "rowLimit": 10000
     },
     "inputWidgets": {},
     "nuid": "47964bc4-cb66-413d-928d-aadadc2fd128",
     "showTitle": true,
     "tableResultSettingsMap": {},
     "title": "Remove house_prices_dataset.csv if the file exist"
    }
   },
   "outputs": [],
   "source": [
    "#%sh\n",
    "#rm /Volumes/kaggle_ml_demo/house_prediction/kaggle/house_prices_dataset.csv"
   ]
  }
 ],
 "metadata": {
  "application/vnd.databricks.v1+notebook": {
   "computePreferences": null,
   "dashboards": [],
   "environmentMetadata": {
    "base_environment": "",
    "environment_version": "3"
   },
   "inputWidgetPreferences": null,
   "language": "python",
   "notebookMetadata": {
    "mostRecentlyExecutedCommandWithImplicitDF": {
     "commandId": 4705849791427962,
     "dataframes": [
      "_sqldf"
     ]
    },
    "pythonIndentUnit": 2
   },
   "notebookName": "1-Ingest_Data",
   "widgets": {}
  },
  "language_info": {
   "name": "python"
  }
 },
 "nbformat": 4,
 "nbformat_minor": 0
}
