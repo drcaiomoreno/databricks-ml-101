{
 "cells": [
  {
   "cell_type": "code",
   "execution_count": 0,
   "metadata": {
    "application/vnd.databricks.v1+cell": {
     "cellMetadata": {
      "byteLimit": 2048000,
      "rowLimit": 10000
     },
     "inputWidgets": {},
     "nuid": "d2ba7ad8-0f1d-4f69-bfea-5d2993100fe8",
     "showTitle": false,
     "tableResultSettingsMap": {},
     "title": ""
    }
   },
   "outputs": [],
   "source": [
    "# Upgrade Databricks SDK to the latest version and restart Python to see updated packages\n",
    "%pip install --upgrade databricks-sdk==0.49.0\n",
    "%restart_python\n",
    "\n",
    "from databricks.sdk.service.jobs import JobSettings as Job\n",
    "\n",
    "\n",
    "E2E_ML_101 = Job.from_dict(\n",
    "    {\n",
    "        \"name\": \"E2E_ML_101\",\n",
    "        \"tasks\": [\n",
    "            {\n",
    "                \"task_key\": \"Init_Project\",\n",
    "                \"notebook_task\": {\n",
    "                    \"notebook_path\": \"/Repos/caio.moreno@databricks.com/databricks-ml-101/code/1-basic-ml-demo/0_Init\",\n",
    "                    \"source\": \"WORKSPACE\",\n",
    "                },\n",
    "                \"existing_cluster_id\": \"0904-111436-kact9l5w\",\n",
    "            },\n",
    "            {\n",
    "                \"task_key\": \"Ingest_Data\",\n",
    "                \"depends_on\": [\n",
    "                    {\n",
    "                        \"task_key\": \"Init_Project\",\n",
    "                    },\n",
    "                ],\n",
    "                \"notebook_task\": {\n",
    "                    \"notebook_path\": \"/Repos/caio.moreno@databricks.com/databricks-ml-101/code/1-basic-ml-demo/1-Ingest_Data\",\n",
    "                    \"source\": \"WORKSPACE\",\n",
    "                },\n",
    "                \"existing_cluster_id\": \"0904-111436-kact9l5w\",\n",
    "            },\n",
    "            {\n",
    "                \"task_key\": \"Train_Register_ML_Model_LR\",\n",
    "                \"depends_on\": [\n",
    "                    {\n",
    "                        \"task_key\": \"Ingest_Data\",\n",
    "                    },\n",
    "                ],\n",
    "                \"notebook_task\": {\n",
    "                    \"notebook_path\": \"/Repos/caio.moreno@databricks.com/databricks-ml-101/code/1-basic-ml-demo/2-Train_and_Register_ML_Model_LR\",\n",
    "                    \"source\": \"WORKSPACE\",\n",
    "                },\n",
    "                \"existing_cluster_id\": \"0904-111436-kact9l5w\",\n",
    "            },\n",
    "            {\n",
    "                \"task_key\": \"Train_Register_ML_Model_RF\",\n",
    "                \"depends_on\": [\n",
    "                    {\n",
    "                        \"task_key\": \"Ingest_Data\",\n",
    "                    },\n",
    "                ],\n",
    "                \"notebook_task\": {\n",
    "                    \"notebook_path\": \"/Repos/caio.moreno@databricks.com/databricks-ml-101/code/1-basic-ml-demo/2.1-Train_and_Register_ML_Model_RF\",\n",
    "                    \"source\": \"WORKSPACE\",\n",
    "                },\n",
    "                \"existing_cluster_id\": \"0904-111436-kact9l5w\",\n",
    "            },\n",
    "        ],\n",
    "        \"git_source\": {\n",
    "            \"git_url\": \"https://github.com/drcaiomoreno/databricks-ml-101.git\",\n",
    "            \"git_provider\": \"gitHub\",\n",
    "            \"git_branch\": \"main\",\n",
    "        },\n",
    "        \"queue\": {\n",
    "            \"enabled\": True,\n",
    "        },\n",
    "    }\n",
    ")\n",
    "\n",
    "from databricks.sdk import WorkspaceClient\n",
    "\n",
    "w = WorkspaceClient()\n",
    "#w.jobs.reset(new_settings=E2E_ML_101, job_id=374405248742032)\n",
    "# or create a new job using: w.jobs.create(**E2E_ML_101.as_shallow_dict())\n",
    "w.jobs.create(**E2E_ML_101.as_shallow_dict())"
   ]
  }
 ],
 "metadata": {
  "application/vnd.databricks.v1+notebook": {
   "computePreferences": null,
   "dashboards": [],
   "environmentMetadata": {
    "base_environment": "",
    "environment_version": "3"
   },
   "inputWidgetPreferences": null,
   "language": "python",
   "notebookMetadata": {
    "pythonIndentUnit": 2
   },
   "notebookName": "E2E_ML_101_JOB_SDK",
   "widgets": {}
  },
  "language_info": {
   "name": "python"
  }
 },
 "nbformat": 4,
 "nbformat_minor": 0
}
